{
 "cells": [
  {
   "cell_type": "code",
   "execution_count": 5,
   "metadata": {},
   "outputs": [
    {
     "name": "stdout",
     "output_type": "stream",
     "text": [
      "[1]\n",
      "[1, 2]\n",
      "[1, 2, 3]\n",
      "[1, 2, 3, 4]\n",
      "[1, 2, 3, 4, 5]\n"
     ]
    }
   ],
   "source": [
    "l = [ 1,2,3,4,5 ]\n",
    "for i in l:\n",
    "    print(l[0:i])"
   ]
  },
  {
   "cell_type": "code",
   "execution_count": 26,
   "metadata": {},
   "outputs": [
    {
     "name": "stdout",
     "output_type": "stream",
     "text": [
      "[5, 4, 3, 2, 1]\n",
      "[5, 4, 3, 2]\n",
      "[5, 4, 3]\n",
      "[5, 4]\n",
      "[5]\n"
     ]
    }
   ],
   "source": [
    "l = [ 5,4,3,2,1 ]\n",
    "for i in l:\n",
    "    print(l[0:i])"
   ]
  },
  {
   "cell_type": "code",
   "execution_count": 47,
   "metadata": {},
   "outputs": [
    {
     "name": "stdout",
     "output_type": "stream",
     "text": [
      "pune : 1200\n",
      "nashik : 1300\n",
      "mumbai : 5000\n"
     ]
    }
   ],
   "source": [
    "city_names = ['pune', 'nashik', 'mumbai']\n",
    "covid_count = [1200, 1300, 5000]\n",
    "j = 0\n",
    "for i in city_names:\n",
    "    print(i,':',covid_count[j] )\n",
    "    j+= 1\n"
   ]
  },
  {
   "cell_type": "code",
   "execution_count": 53,
   "metadata": {},
   "outputs": [
    {
     "ename": "SyntaxError",
     "evalue": "cannot assign to function call (<ipython-input-53-385af7b28cc0>, line 6)",
     "output_type": "error",
     "traceback": [
      "\u001b[1;36m  File \u001b[1;32m\"<ipython-input-53-385af7b28cc0>\"\u001b[1;36m, line \u001b[1;32m6\u001b[0m\n\u001b[1;33m    dict(covid_count[i]) = city_names[j]\u001b[0m\n\u001b[1;37m    ^\u001b[0m\n\u001b[1;31mSyntaxError\u001b[0m\u001b[1;31m:\u001b[0m cannot assign to function call\n"
     ]
    }
   ],
   "source": [
    "dict = {}\n",
    "city_names = ['pune', 'nashik', 'mumbai']\n",
    "covid_count = [1200, 1300, 5000]\n",
    "j = 0\n",
    "for i in covid_count:\n",
    "    dict(covid_count[i]) = city_names[j]\n",
    "    j+= 1\n",
    "    "
   ]
  },
  {
   "cell_type": "code",
   "execution_count": null,
   "metadata": {},
   "outputs": [],
   "source": []
  },
  {
   "cell_type": "code",
   "execution_count": null,
   "metadata": {},
   "outputs": [],
   "source": []
  },
  {
   "cell_type": "code",
   "execution_count": null,
   "metadata": {},
   "outputs": [],
   "source": []
  }
 ],
 "metadata": {
  "kernelspec": {
   "display_name": "Python 3",
   "language": "python",
   "name": "python3"
  },
  "language_info": {
   "codemirror_mode": {
    "name": "ipython",
    "version": 3
   },
   "file_extension": ".py",
   "mimetype": "text/x-python",
   "name": "python",
   "nbconvert_exporter": "python",
   "pygments_lexer": "ipython3",
   "version": "3.8.5"
  }
 },
 "nbformat": 4,
 "nbformat_minor": 4
}
